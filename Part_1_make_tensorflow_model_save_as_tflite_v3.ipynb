{
  "nbformat": 4,
  "nbformat_minor": 0,
  "metadata": {
    "colab": {
      "name": "Part_1_make_tensorflow_model_save_as_tflite_v3.ipynb",
      "provenance": [],
      "collapsed_sections": []
    },
    "kernelspec": {
      "name": "python3",
      "display_name": "Python 3"
    },
    "language_info": {
      "name": "python"
    }
  },
  "cells": [
    {
      "cell_type": "markdown",
      "source": [
        "# Tensorflow Lite Model Deployment\n",
        "#  Part 1: Make a TensorFlow model, then convert to: model.tflite\n",
        "\n",
        "This is a generic template notebook for making a tensorflow model.\n",
        "The model-creation-process is not fully reflect here. The purpose of this tool is to export a saved tensorflow model file and then to convert that file to a tflite formatted model. \n",
        "\n",
        "It is recommended that you create full documentation for developing your model. Once you have selected the design for your model, then you are ready to use this tool. \n",
        "\n",
        "Docs for a more complete workfl0w report for ML model creation here:\n"
      ],
      "metadata": {
        "id": "IY4_l7MCo41N"
      }
    },
    {
      "cell_type": "markdown",
      "source": [
        "More Tensor Flow Reading and Examples\n",
        "\n",
        "https://colab.research.google.com/github/tensorflow/docs/blob/snapshot-keras/site/en/guide/keras/train_and_evaluate.ipynb\n"
      ],
      "metadata": {
        "id": "h1pC_q-teV8p"
      }
    },
    {
      "cell_type": "markdown",
      "source": [
        "## For Notebook installs into env"
      ],
      "metadata": {
        "id": "c8T7CyIIYpzS"
      }
    },
    {
      "cell_type": "code",
      "source": [
        "#!pip install --upgrade pip\n",
        "#!pip install numpy \n",
        "#!pip install matplotlib\n",
        "#!pip install tensorflow\n"
      ],
      "metadata": {
        "id": "FqbqLowiYogz"
      },
      "execution_count": null,
      "outputs": []
    },
    {
      "cell_type": "markdown",
      "source": [
        "## import"
      ],
      "metadata": {
        "id": "z2vM-QpNX0lT"
      }
    },
    {
      "cell_type": "code",
      "source": [
        "\n",
        "# import and alias python libraries and packages\n",
        "import tensorflow as tf\n",
        "\n",
        "import pathlib\n",
        "import numpy as np\n",
        "import matplotlib.pyplot as plt\n",
        "\n",
        "from tensorflow.keras.models import Model\n",
        "from tensorflow.keras.layers import Input\n",
        "\n",
        "from sklearn.model_selection import train_test_split\n",
        "\n"
      ],
      "metadata": {
        "id": "jWytTQWwX0sT"
      },
      "execution_count": 10,
      "outputs": []
    },
    {
      "cell_type": "markdown",
      "source": [
        ""
      ],
      "metadata": {
        "id": "izMF0rL_X1lA"
      }
    },
    {
      "cell_type": "markdown",
      "source": [
        "# Import Data"
      ],
      "metadata": {
        "id": "XCSkjG-uZSEv"
      }
    },
    {
      "cell_type": "code",
      "source": [
        "# get your data\n"
      ],
      "metadata": {
        "id": "wvySPRvkZSJ0"
      },
      "execution_count": null,
      "outputs": []
    },
    {
      "cell_type": "markdown",
      "source": [
        "# Split Data Test/Train/Validate"
      ],
      "metadata": {
        "id": "Tq7TylWwb3zR"
      }
    },
    {
      "cell_type": "code",
      "source": [
        "# DEMO ONLY Using iris data\n",
        "\n",
        "from sklearn.datasets import load_iris\n",
        "\n",
        "iris = load_iris()\n",
        "\n",
        "X = iris.data\n",
        "y = iris.target\n",
        "\n",
        "#Split dataset into train and test\n",
        "X_train, X_test, y_train, y_test = train_test_split(X, y, test_size = 0.4)"
      ],
      "metadata": {
        "id": "SViVQkV2FVkY"
      },
      "execution_count": 11,
      "outputs": []
    },
    {
      "cell_type": "markdown",
      "source": [
        "# use scikit-learn for split"
      ],
      "metadata": {
        "id": "xYDHipNiePdL"
      }
    },
    {
      "cell_type": "code",
      "source": [
        "X = YOUR_X_DATA\n",
        "y = YOUR_y_DATA\n",
        "\n",
        "#Split dataset into train and test\n",
        "X_train, X_test, y_train, y_test = train_test_split(X, y, test_size = 0.4)"
      ],
      "metadata": {
        "id": "vukTyZv6b35m"
      },
      "execution_count": 16,
      "outputs": []
    },
    {
      "cell_type": "markdown",
      "source": [
        "# inspection"
      ],
      "metadata": {
        "id": "CwnH_FGRIk9P"
      }
    },
    {
      "cell_type": "code",
      "source": [
        "X_train"
      ],
      "metadata": {
        "id": "zP1kDXHDIl7L"
      },
      "execution_count": null,
      "outputs": []
    },
    {
      "cell_type": "code",
      "source": [
        "y_train"
      ],
      "metadata": {
        "id": "mYfafJ2iIndz"
      },
      "execution_count": null,
      "outputs": []
    },
    {
      "cell_type": "markdown",
      "source": [
        "# Preserve All X and y for final training:"
      ],
      "metadata": {
        "id": "Q0dP0Yd2HYo9"
      }
    },
    {
      "cell_type": "code",
      "source": [
        "X_all = X\n",
        "y_all = y"
      ],
      "metadata": {
        "id": "QEqEeuPBHYw8"
      },
      "execution_count": 26,
      "outputs": []
    },
    {
      "cell_type": "markdown",
      "source": [
        "## Set X and y\n"
      ],
      "metadata": {
        "id": "Mqe0DNz0ZSi0"
      }
    },
    {
      "cell_type": "code",
      "source": [
        "# Create a simple Keras model.\n",
        "x = [-1, 0, 1, 2, 3, 4]\n",
        "y = [-3, -1, 1, 3, 5, 7]\n",
        "\n"
      ],
      "metadata": {
        "id": "CSpGg4HaX11K"
      },
      "execution_count": 2,
      "outputs": []
    },
    {
      "cell_type": "markdown",
      "source": [
        "## Select Type of Model"
      ],
      "metadata": {
        "id": "kmex0-jSZYaL"
      }
    },
    {
      "cell_type": "code",
      "source": [
        "# EXAMPLE\n",
        "\n",
        "# note: for this model, update X input shape\n",
        "\n",
        "model = tf.keras.models.Sequential([\n",
        "    tf.keras.layers.Dense(units=1, input_shape=[4])\n",
        "])\n",
        "model.compile(optimizer='sgd', loss='mean_squared_error')\n"
      ],
      "metadata": {
        "id": "Nh2HluzdZYiN"
      },
      "execution_count": 23,
      "outputs": []
    },
    {
      "cell_type": "markdown",
      "source": [
        "## .fit\n",
        "## Train The Model"
      ],
      "metadata": {
        "id": "fziUCz-xZc6a"
      }
    },
    {
      "cell_type": "code",
      "source": [
        "model.fit(X_train, y_train, epochs=200, verbose=1)"
      ],
      "metadata": {
        "id": "FS0lMq_AZdE9"
      },
      "execution_count": null,
      "outputs": []
    },
    {
      "cell_type": "markdown",
      "source": [
        "## Evaluate The Model\n",
        "\n",
        "https://www.tensorflow.org/guide/keras/train_and_evaluate\n",
        "\n",
        "https://colab.research.google.com/github/tensorflow/docs/blob/snapshot-keras/site/en/guide/keras/train_and_evaluate.ipynb#scrollTo=69f524a93f9d"
      ],
      "metadata": {
        "id": "6s6EqvrYbwvg"
      }
    },
    {
      "cell_type": "code",
      "source": [
        "# Evaluate the model on the test data using `evaluate`\n",
        "\n",
        "# Use Tensorflow evalutate tool:\n",
        "results = model.evaluate(X_test, y_test, batch_size=128)\n",
        "\n",
        "print(\"test loss, test acc:\", results, \"\\n\")\n",
        "\n",
        "# Generate predictions \n",
        "# on new data using `predict`\n",
        "print(\"Generate predictions to test output shape:\")\n",
        "predictions = model.predict(X_test[:3])\n",
        "\n",
        "# Test Shape\n",
        "print(\"predictions shape:\", predictions.shape)"
      ],
      "metadata": {
        "id": "EGTgxRGtbw2A",
        "colab": {
          "base_uri": "https://localhost:8080/"
        },
        "outputId": "5ecd6ad1-6e8e-40d7-f2c3-ecb13d624ee6"
      },
      "execution_count": 38,
      "outputs": [
        {
          "output_type": "stream",
          "name": "stdout",
          "text": [
            "1/1 [==============================] - 0s 32ms/step - loss: 0.0517\n",
            "test loss, test acc: 0.051735322922468185 \n",
            "\n",
            "Generate predictions to test output shape:\n",
            "predictions shape: (3, 1)\n"
          ]
        }
      ]
    },
    {
      "cell_type": "markdown",
      "source": [
        "# Confusion Matrix\n",
        "\n",
        "https://www.tensorflow.org/api_docs/python/tf/math/confusion_matrix "
      ],
      "metadata": {
        "id": "JdOSmIsgKrrU"
      }
    },
    {
      "cell_type": "code",
      "source": [
        ""
      ],
      "metadata": {
        "id": "Rk2Pd-fNKrzi"
      },
      "execution_count": null,
      "outputs": []
    },
    {
      "cell_type": "markdown",
      "source": [
        ""
      ],
      "metadata": {
        "id": "J-Ie8UFco3uX"
      }
    },
    {
      "cell_type": "markdown",
      "source": [
        "# Re-Train on whole date set before deploying"
      ],
      "metadata": {
        "id": "-YGWlCduHGKZ"
      }
    },
    {
      "cell_type": "code",
      "source": [
        "model.fit(X_all, y_all, epochs=200, verbose=1)"
      ],
      "metadata": {
        "id": "-83vrvwoHKHG"
      },
      "execution_count": null,
      "outputs": []
    },
    {
      "cell_type": "markdown",
      "source": [
        "## Save Tensorflow Model (not yet .tflite)"
      ],
      "metadata": {
        "id": "btv6YfahZo1Z"
      }
    },
    {
      "cell_type": "code",
      "source": [
        "export_dir = 'saved_model/'\n",
        "tf.saved_model.save(model, export_dir)\n",
        "\n",
        "# inspect\n",
        "!ls"
      ],
      "metadata": {
        "id": "-GiHemRLZo-i",
        "colab": {
          "base_uri": "https://localhost:8080/"
        },
        "outputId": "ec350379-1ab8-4570-fc2f-cdf12e392052"
      },
      "execution_count": 29,
      "outputs": [
        {
          "output_type": "stream",
          "name": "stdout",
          "text": [
            "INFO:tensorflow:Assets written to: saved_model/assets\n",
            "sample_data  saved_model\n"
          ]
        }
      ]
    },
    {
      "cell_type": "markdown",
      "source": [
        "## Make .ftlite Model (Convert Tensorflow Model to .tflite)"
      ],
      "metadata": {
        "id": "7MHDEWSgZyRJ"
      }
    },
    {
      "cell_type": "code",
      "source": [
        "# Convert the model.\n",
        "converter = tf.lite.TFLiteConverter.from_saved_model(export_dir)\n",
        "tflite_model = converter.convert()\n",
        "\n",
        "# inspect\n",
        "!ls"
      ],
      "metadata": {
        "id": "QQCbuNKlZyXa",
        "colab": {
          "base_uri": "https://localhost:8080/"
        },
        "outputId": "0ff1b0b1-01c4-4aac-be61-ee99a1ba4797"
      },
      "execution_count": 30,
      "outputs": [
        {
          "output_type": "stream",
          "name": "stderr",
          "text": [
            "WARNING:absl:Buffer deduplication procedure will be skipped when flatbuffer library is not properly loaded\n"
          ]
        },
        {
          "output_type": "stream",
          "name": "stdout",
          "text": [
            "sample_data  saved_model\n"
          ]
        }
      ]
    },
    {
      "cell_type": "markdown",
      "source": [
        "## Now your model.tflite file is ready to be deployed."
      ],
      "metadata": {
        "id": "zQoDxTIkrI1L"
      }
    },
    {
      "cell_type": "markdown",
      "source": [
        "## (Optional) Test .tflite model using tensorflow (not tflite)\n",
        "\n",
        "This code is not the same as the tflite code."
      ],
      "metadata": {
        "id": "krZl6r8Pa7U3"
      }
    },
    {
      "cell_type": "code",
      "source": [
        "\n",
        "# Load TFLite model and allocate tensors.\n",
        "interpreter = tf.lite.Interpreter(model_content=tflite_model)\n",
        "interpreter.allocate_tensors()\n",
        "\n",
        "# Get input and output tensors.\n",
        "input_details = interpreter.get_input_details()\n",
        "output_details = interpreter.get_output_details()\n",
        "\n",
        "\n",
        "# Make A Prediction (short version)\n",
        "\n",
        "# X: input data\n",
        "X_raw_input = [[0.37094948,0.37094948,0.37094948,0.37094948]]\n",
        "# convert raw input number to an numpy array\n",
        "# this is required for TFlite??\n",
        "input_data = np.asarray(X_raw_input, dtype=np.float32)\n",
        "    \n",
        "# y: using model, producing y from X\n",
        "interpreter.set_tensor(input_details[0]['index'], input_data)\n",
        "interpreter.invoke()\n",
        "tflite_results = interpreter.get_tensor(output_details[0]['index'])\n",
        "\n",
        "# inspection\n",
        "print(\"y =\", tflite_results)\n"
      ],
      "metadata": {
        "id": "ksg6bIKKbI-E",
        "colab": {
          "base_uri": "https://localhost:8080/"
        },
        "outputId": "285ac888-e0a7-42ad-f088-4d6438058a0f"
      },
      "execution_count": 35,
      "outputs": [
        {
          "output_type": "stream",
          "name": "stdout",
          "text": [
            "y = [[0.27955797]]\n"
          ]
        }
      ]
    }
  ]
}