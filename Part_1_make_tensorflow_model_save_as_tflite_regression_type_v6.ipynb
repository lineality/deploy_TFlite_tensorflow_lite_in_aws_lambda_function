{
  "nbformat": 4,
  "nbformat_minor": 0,
  "metadata": {
    "colab": {
      "name": "Part_1_make_tensorflow_model_save_as_tflite_regression_type_v6.ipynb",
      "provenance": [],
      "collapsed_sections": [
        "U7oKYPgPreKB"
      ]
    },
    "kernelspec": {
      "name": "python3",
      "display_name": "Python 3"
    },
    "language_info": {
      "name": "python"
    }
  },
  "cells": [
    {
      "cell_type": "markdown",
      "source": [
        "# Tensorflow Lite Model Deployment\n",
        "#  Part 1: Make a TensorFlow model, then convert to: model.tflite\n",
        "\n",
        "This is a generic template notebook for making a tensorflow model.\n",
        "The model-creation-process is not fully reflect here. The purpose of this tool is to export a saved tensorflow model file and then to convert that file to a tflite formatted model. \n",
        "\n",
        "It is recommended that you create full documentation for developing your model. Once you have selected the design for your model, then you are ready to use this tool. \n",
        "\n",
        "Docs for a more complete workfl0w report for ML model creation here:\n"
      ],
      "metadata": {
        "id": "IY4_l7MCo41N"
      }
    },
    {
      "cell_type": "markdown",
      "source": [
        "More Tensor Flow Reading and Examples\n",
        "\n",
        "https://colab.research.google.com/github/tensorflow/docs/blob/snapshot-keras/site/en/guide/keras/train_and_evaluate.ipynb\n"
      ],
      "metadata": {
        "id": "h1pC_q-teV8p"
      }
    },
    {
      "cell_type": "markdown",
      "source": [
        "## For Notebook installs into env"
      ],
      "metadata": {
        "id": "c8T7CyIIYpzS"
      }
    },
    {
      "cell_type": "code",
      "source": [
        "#!pip install --upgrade pip\n",
        "#!pip install numpy \n",
        "#!pip install matplotlib\n",
        "#!pip install tensorflow"
      ],
      "metadata": {
        "id": "FqbqLowiYogz"
      },
      "execution_count": null,
      "outputs": []
    },
    {
      "cell_type": "markdown",
      "source": [
        "## import"
      ],
      "metadata": {
        "id": "z2vM-QpNX0lT"
      }
    },
    {
      "cell_type": "code",
      "source": [
        "\n",
        "# import and alias python libraries and packages\n",
        "import tensorflow as tf\n",
        "\n",
        "import pathlib\n",
        "import numpy as np\n",
        "import matplotlib.pyplot as plt\n",
        "\n",
        "from tensorflow.keras.models import Model\n",
        "from tensorflow.keras.layers import Input\n",
        "\n",
        "from sklearn.model_selection import train_test_split\n"
      ],
      "metadata": {
        "id": "jWytTQWwX0sT"
      },
      "execution_count": 3,
      "outputs": []
    },
    {
      "cell_type": "markdown",
      "source": [
        "# Import Data"
      ],
      "metadata": {
        "id": "XCSkjG-uZSEv"
      }
    },
    {
      "cell_type": "code",
      "source": [
        "# get your data\n"
      ],
      "metadata": {
        "id": "wvySPRvkZSJ0"
      },
      "execution_count": null,
      "outputs": []
    },
    {
      "cell_type": "markdown",
      "source": [
        "# Split Data Test/Train/Validate\n",
        "## (Various Versions Below)"
      ],
      "metadata": {
        "id": "Tq7TylWwb3zR"
      }
    },
    {
      "cell_type": "markdown",
      "source": [
        "## Super Simple Version\n"
      ],
      "metadata": {
        "id": "Mqe0DNz0ZSi0"
      }
    },
    {
      "cell_type": "code",
      "source": [
        "# Create a simple Keras model.\n",
        "x = [-1, 0, 1, 2, 3, 4]\n",
        "y = [-3, -1, 1, 3, 5, 7]\n",
        "\n"
      ],
      "metadata": {
        "id": "CSpGg4HaX11K"
      },
      "execution_count": null,
      "outputs": []
    },
    {
      "cell_type": "markdown",
      "source": [
        "# Iris Dataset Version"
      ],
      "metadata": {
        "id": "KJlrvU5QtxFc"
      }
    },
    {
      "cell_type": "code",
      "source": [
        "# DEMO ONLY Using iris data\n",
        "\n",
        "from sklearn.datasets import load_iris\n",
        "\n",
        "iris = load_iris()\n",
        "\n",
        "X = iris.data\n",
        "y = iris.target\n",
        "\n",
        "#Split dataset into train and test\n",
        "X_train, X_test, y_train, y_test = train_test_split(X, y, test_size = 0.4)"
      ],
      "metadata": {
        "id": "SViVQkV2FVkY"
      },
      "execution_count": 4,
      "outputs": []
    },
    {
      "cell_type": "markdown",
      "source": [
        "# SKlearn Version\n",
        "## use scikit-learn for your split"
      ],
      "metadata": {
        "id": "xYDHipNiePdL"
      }
    },
    {
      "cell_type": "code",
      "source": [
        "X = YOUR_X_DATA\n",
        "y = YOUR_y_DATA\n",
        "\n",
        "#Split dataset into train and test\n",
        "X_train, X_test, y_train, y_test = train_test_split(X, y, test_size = 0.4)"
      ],
      "metadata": {
        "id": "vukTyZv6b35m"
      },
      "execution_count": null,
      "outputs": []
    },
    {
      "cell_type": "markdown",
      "source": [
        "# inspection\n",
        "See what you have:"
      ],
      "metadata": {
        "id": "CwnH_FGRIk9P"
      }
    },
    {
      "cell_type": "code",
      "source": [
        "X_train"
      ],
      "metadata": {
        "id": "zP1kDXHDIl7L"
      },
      "execution_count": null,
      "outputs": []
    },
    {
      "cell_type": "code",
      "source": [
        "y_train"
      ],
      "metadata": {
        "id": "mYfafJ2iIndz"
      },
      "execution_count": null,
      "outputs": []
    },
    {
      "cell_type": "markdown",
      "source": [
        "# Preserve All X and y for final training:"
      ],
      "metadata": {
        "id": "Q0dP0Yd2HYo9"
      }
    },
    {
      "cell_type": "code",
      "source": [
        "X_all = X\n",
        "y_all = y"
      ],
      "metadata": {
        "id": "QEqEeuPBHYw8"
      },
      "execution_count": null,
      "outputs": []
    },
    {
      "cell_type": "markdown",
      "source": [
        "## Select Type of Model"
      ],
      "metadata": {
        "id": "kmex0-jSZYaL"
      }
    },
    {
      "cell_type": "code",
      "source": [
        "# EXAMPLE\n",
        "\n",
        "# note: for this model, update X input shape\n",
        "\n",
        "model = tf.keras.models.Sequential([\n",
        "    tf.keras.layers.Dense(units=1, input_shape=[4])\n",
        "])\n",
        "model.compile(optimizer='sgd', loss='mean_squared_error')\n"
      ],
      "metadata": {
        "id": "Nh2HluzdZYiN"
      },
      "execution_count": 5,
      "outputs": []
    },
    {
      "cell_type": "markdown",
      "source": [
        "## .fit\n",
        "## Train The Model"
      ],
      "metadata": {
        "id": "fziUCz-xZc6a"
      }
    },
    {
      "cell_type": "code",
      "source": [
        "model.fit(X_train, y_train, epochs=20, verbose=1)"
      ],
      "metadata": {
        "id": "FS0lMq_AZdE9"
      },
      "execution_count": null,
      "outputs": []
    },
    {
      "cell_type": "markdown",
      "source": [
        "## Evaluate The Model\n",
        "\n",
        "https://www.tensorflow.org/guide/keras/train_and_evaluate\n",
        "\n",
        "https://colab.research.google.com/github/tensorflow/docs/blob/snapshot-keras/site/en/guide/keras/train_and_evaluate.ipynb#scrollTo=69f524a93f9d"
      ],
      "metadata": {
        "id": "6s6EqvrYbwvg"
      }
    },
    {
      "cell_type": "code",
      "source": [
        "# Evaluate the model on the test data using `evaluate`\n",
        "\n",
        "# Use Tensorflow evalutate tool:\n",
        "results = model.evaluate(X_test, y_test, batch_size=128)\n",
        "\n",
        "print(\"test loss, test acc:\", results, \"\\n\")\n",
        "\n",
        "# Generate predictions \n",
        "# on new data using `predict`\n",
        "print(\"Generate predictions to test output shape:\")\n",
        "predictions = model.predict(X_test[:3])\n",
        "\n",
        "# Test Shape\n",
        "print(\"predictions shape:\", predictions.shape)"
      ],
      "metadata": {
        "id": "EGTgxRGtbw2A",
        "colab": {
          "base_uri": "https://localhost:8080/"
        },
        "outputId": "dbae0b0f-4cf0-47ad-8a65-a7b827f7c01c"
      },
      "execution_count": 7,
      "outputs": [
        {
          "output_type": "stream",
          "name": "stdout",
          "text": [
            "1/1 [==============================] - 0s 108ms/step - loss: 0.1124\n",
            "test loss, test acc: 0.11241965740919113 \n",
            "\n",
            "Generate predictions to test output shape:\n",
            "predictions shape: (3, 1)\n"
          ]
        }
      ]
    },
    {
      "cell_type": "markdown",
      "source": [
        "# For proper testing, save a portable version and test from that:"
      ],
      "metadata": {
        "id": "t3BHQQOk-1A-"
      }
    },
    {
      "cell_type": "code",
      "source": [
        "from tensorflow.keras.models import load_model\n",
        "from tensorflow.keras.preprocessing import image\n",
        "import numpy as np\n",
        "\n",
        "# Save your model in .h5 format (one file, not a directory)\n",
        "model.save('model.h5')\n",
        "\n",
        "# Load the .h5 model file and test it\n",
        "model = load_model('model.h5')"
      ],
      "metadata": {
        "id": "gPqaT2N6-5nq"
      },
      "execution_count": 12,
      "outputs": []
    },
    {
      "cell_type": "markdown",
      "source": [
        "## Run the same test as above, but this will use your saved model."
      ],
      "metadata": {
        "id": "s2lX57L3_jY-"
      }
    },
    {
      "cell_type": "code",
      "source": [
        "# Use Tensorflow evalutate tool:\n",
        "results = model.evaluate(X_test, y_test, batch_size=128)\n",
        "\n",
        "print(\"test loss, test acc:\", results, \"\\n\")\n",
        "\n",
        "# Generate predictions \n",
        "# on new data using `predict`\n",
        "print(\"Generate predictions to test output shape:\")\n",
        "predictions = model.predict(X_test[:3])\n",
        "\n",
        "# Test Shape\n",
        "print(\"predictions shape:\", predictions.shape)"
      ],
      "metadata": {
        "colab": {
          "base_uri": "https://localhost:8080/"
        },
        "id": "ZDATdqhU_gmA",
        "outputId": "a90a241a-36ea-46ff-958c-cf5ced59d388"
      },
      "execution_count": 13,
      "outputs": [
        {
          "output_type": "stream",
          "name": "stdout",
          "text": [
            "1/1 [==============================] - 0s 135ms/step - loss: 0.1124\n",
            "test loss, test acc: 0.11241965740919113 \n",
            "\n",
            "Generate predictions to test output shape:\n",
            "predictions shape: (3, 1)\n"
          ]
        }
      ]
    },
    {
      "cell_type": "markdown",
      "source": [
        "# Confusion Matrix\n",
        "\n",
        "(work in progress...)\n",
        "\n",
        "https://www.tensorflow.org/api_docs/python/tf/math/confusion_matrix \n",
        "\n",
        "https://www.geeksforgeeks.org/python-tensorflow-math-confusion_matrix/"
      ],
      "metadata": {
        "id": "JdOSmIsgKrrU"
      }
    },
    {
      "cell_type": "code",
      "source": [
        "# # importing the library\n",
        "# import tensorflow as tf\n",
        "\n",
        "# # Initializing the input tensor\n",
        "# labels = tf.constant([1,3,4],dtype = tf.int32)\n",
        "# predictions = tf.constant([1,2,3],dtype = tf.int32)\n",
        "\n",
        "# # Printing the input tensor\n",
        "# print('labels: ',labels)\n",
        "# print('Predictions: ',predictions)\n",
        "\n",
        "# # Evaluating confusion matrix\n",
        "# confusion_matrix = tf.math.confusion_matrix(labels,predictions)\n",
        "\n",
        "# # Printing the result\n",
        "# print('Confusion_matrix: ',confusion_matrix)\n"
      ],
      "metadata": {
        "id": "Rk2Pd-fNKrzi"
      },
      "execution_count": null,
      "outputs": []
    },
    {
      "cell_type": "markdown",
      "source": [
        ""
      ],
      "metadata": {
        "id": "J-Ie8UFco3uX"
      }
    },
    {
      "cell_type": "markdown",
      "source": [
        "# Re-Train on whole data set before deploying"
      ],
      "metadata": {
        "id": "-YGWlCduHGKZ"
      }
    },
    {
      "cell_type": "code",
      "source": [
        "model.fit(X_all, y_all, epochs=200, verbose=1)"
      ],
      "metadata": {
        "id": "-83vrvwoHKHG"
      },
      "execution_count": null,
      "outputs": []
    },
    {
      "cell_type": "markdown",
      "source": [
        "## Save Tensorflow Model (NOT yet .tflite)"
      ],
      "metadata": {
        "id": "btv6YfahZo1Z"
      }
    },
    {
      "cell_type": "code",
      "source": [
        "# makde a .h5 version of the model\n",
        "model.save('model.h5')\n",
        "\n",
        "# inspect\n",
        "!ls"
      ],
      "metadata": {
        "id": "7f9b6r3S7WoJ"
      },
      "execution_count": 11,
      "outputs": []
    },
    {
      "cell_type": "code",
      "source": [
        "TF_model_directory = 'saved_model/'\n",
        "tf.saved_model.save(model, TF_model_directory)\n",
        "\n",
        "# inspect\n",
        "!ls"
      ],
      "metadata": {
        "id": "-GiHemRLZo-i",
        "colab": {
          "base_uri": "https://localhost:8080/"
        },
        "outputId": "f811166e-2847-49b8-f04b-d17566a10d76"
      },
      "execution_count": 8,
      "outputs": [
        {
          "output_type": "stream",
          "name": "stdout",
          "text": [
            "INFO:tensorflow:Assets written to: saved_model/assets\n",
            "sample_data  saved_model\n"
          ]
        }
      ]
    },
    {
      "cell_type": "markdown",
      "source": [
        "## Make .ftlite Model (Convert Tensorflow Model to .tflite)"
      ],
      "metadata": {
        "id": "7MHDEWSgZyRJ"
      }
    },
    {
      "cell_type": "markdown",
      "source": [
        "# Make 'model.tflite'\n",
        "\n",
        "Note: the suffix is fixed, but you can change\n",
        "the first part of the name,\n",
        "but the sample code here assumes \"model.tflite\"\n",
        "\n",
        "\n",
        "```\n",
        "YOUR_CHOICE_OF_NAME.tflite\n",
        "```"
      ],
      "metadata": {
        "id": "hNODO35R6Obx"
      }
    },
    {
      "cell_type": "code",
      "source": [
        "#########################################\n",
        "# Make Your TFlite Version of your Model\n",
        "#########################################\n",
        "# See: https://www.tensorflow.org/lite/convert/\n",
        "\n",
        "# save the TF model as full directory\n",
        "TF_model_directory = 'saved_model/'\n",
        "tf.saved_model.save(model, TF_model_directory)\n",
        "\n",
        "# Convert the model\n",
        "converter = tf.lite.TFLiteConverter.from_saved_model( TF_model_directory ) # path to the SavedModel directory\n",
        "tflite_model = converter.convert()\n",
        "\n",
        "# Save the model as a single TFlite file: model.tflite\n",
        "# you can put the name, but the filetype must be .tflite\n",
        "# YOUR_NAME_CHOICE.tflite\n",
        "with open('model.tflite', 'wb') as f:\n",
        "  f.write(tflite_model)\n",
        "\n",
        "# inspect\n",
        "!ls"
      ],
      "metadata": {
        "id": "JcfqMGzBXiHF",
        "colab": {
          "base_uri": "https://localhost:8080/"
        },
        "outputId": "2d253e9b-e464-46f4-fdc9-6fdbba6d6e32"
      },
      "execution_count": 9,
      "outputs": [
        {
          "output_type": "stream",
          "name": "stderr",
          "text": [
            "WARNING:absl:Buffer deduplication procedure will be skipped when flatbuffer library is not properly loaded\n"
          ]
        }
      ]
    },
    {
      "cell_type": "markdown",
      "source": [
        "## Now your model.tflite file is ready to be deployed."
      ],
      "metadata": {
        "id": "zQoDxTIkrI1L"
      }
    },
    {
      "cell_type": "markdown",
      "source": [
        "## (Optional) Test .tflite model using tensorflow \n",
        "\n",
        "### Note: this is a kind of emulator in TF, this is NOT the deployment code to use in TFlite. This is just a model-test.\n"
      ],
      "metadata": {
        "id": "krZl6r8Pa7U3"
      }
    },
    {
      "cell_type": "code",
      "source": [
        "\n",
        "# Load TFLite model and allocate tensors.\n",
        "interpreter = tf.lite.Interpreter(model_content=tflite_model)\n",
        "interpreter.allocate_tensors()\n",
        "\n",
        "# Get input and output tensors.\n",
        "input_details = interpreter.get_input_details()\n",
        "output_details = interpreter.get_output_details()\n",
        "\n",
        "\n",
        "# Make A Prediction (short version)\n",
        "\n",
        "# X: input data\n",
        "X_raw_input = [[0.37094948,0.37094948,0.37094948,0.37094948]]\n",
        "# convert raw input number to an numpy array\n",
        "# this is required for TFlite??\n",
        "input_data = np.asarray(X_raw_input, dtype=np.float32)\n",
        "    \n",
        "# y: using model, producing y from X\n",
        "interpreter.set_tensor(input_details[0]['index'], input_data)\n",
        "interpreter.invoke()\n",
        "tflite_results = interpreter.get_tensor(output_details[0]['index'])\n",
        "\n",
        "# inspection\n",
        "print(\"y =\", tflite_results)\n"
      ],
      "metadata": {
        "id": "ksg6bIKKbI-E",
        "colab": {
          "base_uri": "https://localhost:8080/"
        },
        "outputId": "57d70475-a8dd-4b4c-d52c-96781862bfcd"
      },
      "execution_count": 10,
      "outputs": [
        {
          "output_type": "stream",
          "name": "stdout",
          "text": [
            "y = [[0.19107173]]\n"
          ]
        }
      ]
    },
    {
      "cell_type": "markdown",
      "source": [
        "# Helper  Code: Convert .h5 to .tflite\n",
        "\n",
        "https://github.com/lineality/deploy_TFlite_tensorflow_lite_in_aws_lambda_function"
      ],
      "metadata": {
        "id": "U7oKYPgPreKB"
      }
    },
    {
      "cell_type": "code",
      "source": [
        "\"\"\"\n",
        "TF TFlite Convert from model.h5 to model.tflite\n",
        "\n",
        "Step 1: Put your model.h5 file into the directory\n",
        "\n",
        "Step 2: Convert .h5 to .tflite\n",
        "\n",
        "Step 3: Download / Save your models and use them\n",
        "(e.g. download from google colab so the file you made doesn't disappear. \n",
        "Right click on model.ftlite in the file explorere and select 'download' )\n",
        "\"\"\"\n",
        "\n",
        "\n",
        "import tensorflow as tf\n",
        "from tensorflow.keras.models import load_model\n",
        "\n",
        "#######\n",
        "# Load\n",
        "#######\n",
        "\n",
        "# Load the .h5 model file\n",
        "model = load_model('model.h5')\n",
        "\n",
        "# Save the TF model as directory\n",
        "TF_model_directory = 'saved_model/'\n",
        "tf.saved_model.save(model, TF_model_directory)\n",
        "\n",
        "####################################\n",
        "# Make TFlite Version of your Model\n",
        "####################################\n",
        "\n",
        "# Convert the model\n",
        "converter = tf.lite.TFLiteConverter.from_saved_model( TF_model_directory ) # path to the SavedModel directory\n",
        "tflite_model = converter.convert()\n",
        "\n",
        "####################################\n",
        "# Save TFlite Version of your Model\n",
        "####################################\n",
        "\n",
        "# Save the model.\n",
        "with open('model.tflite', 'wb') as f:\n",
        "  f.write(tflite_model)\n",
        "\n",
        "# inspect\n",
        "!ls"
      ],
      "metadata": {
        "id": "GHnGeAVrrvQP"
      },
      "execution_count": null,
      "outputs": []
    }
  ]
}